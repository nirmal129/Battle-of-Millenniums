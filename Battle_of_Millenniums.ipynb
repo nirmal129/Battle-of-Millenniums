{
  "nbformat": 4,
  "nbformat_minor": 0,
  "metadata": {
    "colab": {
      "name": "Battle of Millenniums",
      "provenance": [],
      "collapsed_sections": [],
      "include_colab_link": true
    },
    "kernelspec": {
      "name": "python3",
      "display_name": "Python 3"
    },
    "language_info": {
      "name": "python"
    }
  },
  "cells": [
    {
      "cell_type": "markdown",
      "metadata": {
        "id": "view-in-github",
        "colab_type": "text"
      },
      "source": [
        "<a href=\"https://colab.research.google.com/github/nirmal129/Battle-of-Millenniums/blob/master/Battle_of_Millenniums.ipynb\" target=\"_parent\"><img src=\"https://colab.research.google.com/assets/colab-badge.svg\" alt=\"Open In Colab\"/></a>"
      ]
    },
    {
      "cell_type": "markdown",
      "metadata": {
        "id": "fGfovaviI395"
      },
      "source": [
        "# Installations and Imports"
      ]
    },
    {
      "cell_type": "code",
      "metadata": {
        "id": "S_C2ETfzIY3M"
      },
      "source": [
        "%pip install qiskit --quiet\n",
        "%pip install pylatexenc --quiet"
      ],
      "execution_count": null,
      "outputs": []
    },
    {
      "cell_type": "code",
      "metadata": {
        "id": "-bIqGtWnIi6X"
      },
      "source": [
        "import qiskit\n",
        "from qiskit import QuantumCircuit, QuantumRegister, ClassicalRegister, Aer, execute\n",
        "from qiskit.quantum_info import Statevector\n",
        "import numpy as np\n",
        "import random\n",
        "from qiskit.visualization import plot_histogram, plot_state_qsphere, plot_bloch_multivector, plot_bloch_vector\n",
        "from qiskit.circuit.random import random_circuit"
      ],
      "execution_count": null,
      "outputs": []
    },
    {
      "cell_type": "code",
      "metadata": {
        "id": "5IRfe5oYIn3J"
      },
      "source": [
        "def qft(qc, q):\n",
        "    n = len(q)\n",
        "    for j in range(n-1, -1, -1):\n",
        "        qc.h(q[j])\n",
        "        for k in range(j-1, -1, -1):\n",
        "            qc.cu1(2*np.pi*2**(-(j-k+1)), q[k], q[j])  \n",
        "    for l in range(int(np.floor(n/2))):\n",
        "        qc.swap(q[l], q[n-1-l])\n",
        "\n",
        "def iqft(qc, q):\n",
        "    n = len(q)\n",
        "    for l in range(int(np.floor(n/2))):\n",
        "        qc.swap(q[l], q[n-1-l])\n",
        "    for j in range(n):\n",
        "        for k in range(j):\n",
        "            qc.cu1(-2*np.pi*2**(-(j-k+1)), q[k], q[j])\n",
        "        qc.h(q[j])"
      ],
      "execution_count": null,
      "outputs": []
    },
    {
      "cell_type": "code",
      "metadata": {
        "id": "vuNQ8222IsbA"
      },
      "source": [
        "def multiFlip(qc, q_controls, q_target):\n",
        "    qc.h(q_target)\n",
        "    multiPhase(qc, q_controls+[q_target], np.pi)\n",
        "    qc.h(q_target)\n",
        "\n",
        "def multiPhase(qc, q, theta):\n",
        "    if len(q) == 1:\n",
        "        qc.u1(theta, q[0])\n",
        "    elif len(q) == 2:\n",
        "        qc.cu1(theta, q[0], q[1])\n",
        "    else:\n",
        "        qc.cu1(theta/2, q[1], q[0])        \n",
        "        multiFlip(qc, q[2:], q[1])\n",
        "        qc.cu1(-theta/2, q[1], q[0])\n",
        "        multiFlip(qc, q[2:], q[1])\n",
        "        multiPhase(qc, [q[0]]+q[2:], theta/2)"
      ],
      "execution_count": null,
      "outputs": []
    },
    {
      "cell_type": "markdown",
      "metadata": {
        "id": "kPjqb0K5JAOR"
      },
      "source": [
        "# Bonuses"
      ]
    },
    {
      "cell_type": "markdown",
      "metadata": {
        "id": "uEFHqHbBJdSR"
      },
      "source": [
        "### Arithmetic Bonuses"
      ]
    },
    {
      "cell_type": "code",
      "metadata": {
        "id": "jpLir2OHIu0l"
      },
      "source": [
        "# Qubit addition operator\n",
        "\n",
        "def add(qc, qs_input, qs_output):\n",
        "  qft(qc, qs_output)\n",
        "  m = len(qs_output)\n",
        "  n = len(qs_input)\n",
        "  for i in range(m):\n",
        "    for j in range(0, m - i):\n",
        "      qc.crz(2 * np.pi / (2 ** (m - i - j)), qs_input[j], qs_output[i])\n",
        "  iqft(qc, qs_output)"
      ],
      "execution_count": null,
      "outputs": []
    },
    {
      "cell_type": "code",
      "metadata": {
        "id": "UCHEqm0mIwxN"
      },
      "source": [
        "# Qubit subtraction operator\n",
        "\n",
        "def sub(qc, qs_input, qs_output):\n",
        "  qft(qc, qs_output)\n",
        "  m = len(qs_output)\n",
        "  n = len(qs_input)\n",
        "  for i in range(m):\n",
        "    for j in range(0, m - i):\n",
        "      qc.crz(-2 * np.pi / (2 ** (m - i - j)), qs_input[j], qs_output[i])\n",
        "  iqft(qc, qs_output)"
      ],
      "execution_count": null,
      "outputs": []
    },
    {
      "cell_type": "code",
      "metadata": {
        "id": "1-Q8d-OoIzlc"
      },
      "source": [
        "# Qubit multiplication operator \n",
        "\n",
        "def mul(qc, qx, qy, qa):\n",
        "    qft(qc, qa)\n",
        "    n = len(qx)\n",
        "    m = len(qy)\n",
        "    p = len(qa)\n",
        "    for i in range(n):\n",
        "      for j in range(m):\n",
        "        for k in range(p - j - i):\n",
        "          li = [qa[k], qy[j], qx[i]]\n",
        "          theta = 2 * np.pi / (2 ** (p - k - j - i))\n",
        "          multiPhase(qc, li, theta)   \n",
        "    iqft(qc, qa)"
      ],
      "execution_count": null,
      "outputs": []
    },
    {
      "cell_type": "markdown",
      "metadata": {
        "id": "3TGDJfORJhoE"
      },
      "source": [
        "### Grover's Bonus"
      ]
    },
    {
      "cell_type": "code",
      "metadata": {
        "id": "IPtDmCEBRAES"
      },
      "source": [
        "def U(qc, q, n):\n",
        "  circ = random_circuit(n, n)\n",
        "  qc += circ"
      ],
      "execution_count": null,
      "outputs": []
    },
    {
      "cell_type": "code",
      "metadata": {
        "id": "-Ug3kM-iJIA5"
      },
      "source": [
        "def W(qc, q, n):\n",
        "  qc.h(q[1:])\n",
        "  qc.x(q[1:])\n",
        "  multiPhase(qc, q, np.pi / 2)\n",
        "  qc.x(q[1:])\n",
        "  qc.h(q[1:])"
      ],
      "execution_count": null,
      "outputs": []
    },
    {
      "cell_type": "code",
      "metadata": {
        "id": "p1QqVsG5Ln6l"
      },
      "source": [
        "# Grover algorithm on randomized circuit with n - 1 qubits\n",
        "\n",
        "def GroverS(n):\n",
        "  q = QuantumRegister(n)\n",
        "  c = ClassicalRegister(n - 1)\n",
        "  qc = QuantumCircuit(q, c)\n",
        "  R = np.floor(np.pi * np.sqrt(2 ** n) / 4)\n",
        "  qc.x(q[0])\n",
        "  qc.h(q[0])\n",
        "  qc.h(q[1:])\n",
        "  for i in range(int(R)):\n",
        "    U(qc, q, n)\n",
        "    W(qc, q, n)\n",
        "  qc.h(q[0])\n",
        "  qc.x(q[0])\n",
        "  qc.measure(q[1:], c)\n",
        "  backend = Aer.get_backend('qasm_simulator')\n",
        "  counts= execute(qc,backend, shots=1024).result().get_counts(qc)\n",
        "  return int(max(counts, key = counts.get), 2)"
      ],
      "execution_count": null,
      "outputs": []
    },
    {
      "cell_type": "markdown",
      "metadata": {
        "id": "E4pJZxIqNGbL"
      },
      "source": [
        "### Deutsch's Assignment"
      ]
    },
    {
      "cell_type": "code",
      "metadata": {
        "id": "7qJ4IpGzNWcc"
      },
      "source": [
        "# Deutsch algorithm to decide team\n",
        "# Take name (String) as an argument\n",
        "# The name is converted into bit string by appending the modulus 2 of ASCII value of character's in name\n",
        "# Applies (C_n0^cn)*(C_(n-1)0^c(n-1))*...*(C_10^c1)*(X_0^c0) where ci is ith bit of bit string generated from previous step\n",
        "# Returns token which is 0 if the max returned result is 0 else 1.\n",
        "\n",
        "def Deutsch(name):\n",
        "  bitString = \"\"\n",
        "  for c in name:\n",
        "    bitString += str(ord(c) % 2)\n",
        "  n = len(name)\n",
        "  q = QuantumRegister(n + 1)\n",
        "  c = ClassicalRegister(n)\n",
        "  qc = QuantumCircuit(q, c)\n",
        "  qc.x(q[0])\n",
        "  qc.h(q)\n",
        "  if bitString[0] == '1':\n",
        "    qc.x(q[0])\n",
        "  for i in range(1, n):\n",
        "    if bitString[i] == '1':\n",
        "      qc.cx(q[i], q[0])\n",
        "  qc.h(q)\n",
        "  qc.measure(q[1:], c)\n",
        "  backend = Aer.get_backend('qasm_simulator')\n",
        "  counts = execute(qc,backend, shots=1024).result().get_counts(qc)\n",
        "  token = int(max(counts, key = counts.get), 2)\n",
        "  if token != 0:\n",
        "    token = 1\n",
        "  return token"
      ],
      "execution_count": null,
      "outputs": []
    },
    {
      "cell_type": "markdown",
      "metadata": {
        "id": "08w4QGGLeadj"
      },
      "source": [
        "# Game"
      ]
    },
    {
      "cell_type": "markdown",
      "metadata": {
        "id": "lHeTwS39egWX"
      },
      "source": [
        "### Outline"
      ]
    },
    {
      "cell_type": "markdown",
      "metadata": {
        "id": "WjTk0-0BeiPV"
      },
      "source": [
        "Player will enter his/her/their name. Deutsch alogrithm will decide whether the player will join team of angels or devils. According to the team and name, the player will receive skills (Offensive, defensive, and healing). "
      ]
    },
    {
      "cell_type": "markdown",
      "metadata": {
        "id": "Gd8WpLLOfEZV"
      },
      "source": [
        "The battle will be of two players. There are two types of bonuses for battle: Arithmetic bonuses and Grover's bonus."
      ]
    },
    {
      "cell_type": "markdown",
      "metadata": {
        "id": "nELeRXVRguIY"
      },
      "source": [
        "For the arithmetic add bonus, the player offensive power will increase by making a combo of two/three attacks. For the arithmetic sub bonus, the player's defensive power will increase. Add and Sub are both of 3 qubits. For the arithmetic mul bonus, the player will deal additional damage with the price of 4 magic points."
      ]
    },
    {
      "cell_type": "markdown",
      "metadata": {
        "id": "iijgo8tdgvkt"
      },
      "source": [
        "For the Grover's bonus, Grover's search algorithm will be run on a random gate. If the returned search is less than 12 then bit flip will be applied. Grover is of 5 qubits. The price for Grover's bonus is 8 magic points."
      ]
    },
    {
      "cell_type": "markdown",
      "metadata": {
        "id": "R36mTrkEifZu"
      },
      "source": [
        "Initial health will be 100 points. The magic capacity will be 10 points. For every attack, opposite player's magic will be filled by 20% for Grover's bonus attack points and 30% for normal attack points."
      ]
    },
    {
      "cell_type": "markdown",
      "metadata": {
        "id": "evULfmbljuQ4"
      },
      "source": [
        "Add and Sub bonuses are random. Mul bonus requires 4 magic points and Grover's bonus requires 8 magic points."
      ]
    },
    {
      "cell_type": "markdown",
      "metadata": {
        "id": "5ghpdbuQ2a5J"
      },
      "source": [
        "### Supplementary"
      ]
    },
    {
      "cell_type": "code",
      "metadata": {
        "id": "oXZi1Gt-2eqY"
      },
      "source": [
        "# Get attack, heal for player's choice\n",
        "\n",
        "def move(choice):\n",
        "  attack = heal = 0\n",
        "\n",
        "  # Initial setup\n",
        "  if choice == 2:\n",
        "    attack += 4\n",
        "  elif choice == 3:\n",
        "    attack += 6\n",
        "  else:\n",
        "    heal += 6\n",
        "  \n",
        "  # Random circuit with superposition between attack and heal qubits\n",
        "  \n",
        "  qc = random_circuit(5, 4, measure = True)\n",
        "  qc.h(range(5))\n",
        "  backend = Aer.get_backend('qasm_simulator')\n",
        "  counts = execute(qc,backend, shots=1024).result().get_counts(qc)\n",
        "  measure = max(counts, key = counts.get)\n",
        "  sec1 = str(measure)[0 : 3]\n",
        "  sec2 = str(measure)[3 : 5]\n",
        "  if choice == 4:\n",
        "    heal += int(sec1, 2)\n",
        "    attack += int(sec2, 2)\n",
        "  else:\n",
        "    attack += int(sec1, 2)\n",
        "    heal += int(sec2, 2)\n",
        "  return attack, heal"
      ],
      "execution_count": null,
      "outputs": []
    },
    {
      "cell_type": "code",
      "metadata": {
        "id": "ee1omWEP_ZjT"
      },
      "source": [
        "# Get bonus's attack, heal, and enhance (Enhance only for Sub bonus)\n",
        "\n",
        "def bonuses(bonus):\n",
        "\n",
        "  attackB = healB = 0\n",
        "  enhance = 1\n",
        "  \n",
        "  # Mul bonus\n",
        "  # Requires 4 magic points\n",
        "  # 4 qubit attack (Max bonus attack 2 ** 4 = 16)\n",
        "\n",
        "  if bonus == \"Mul\":\n",
        "    magic[chance] -= 4\n",
        "\n",
        "    # Random XZ circuit with superposition\n",
        "\n",
        "    binx = [getBinString(4), getBinString(4), getBinString(4), getBinString(4)]\n",
        "    biny = [getBinString(4), getBinString(4), getBinString(4), getBinString(4)]\n",
        "    qx = QuantumRegister(4)\n",
        "    qy = QuantumRegister(4)\n",
        "    qa = QuantumRegister(4)\n",
        "    c = ClassicalRegister(4)\n",
        "    qc = QuantumCircuit(qx, qy, qa, c)\n",
        "    qc.h(qx)\n",
        "    qc.h(qy)\n",
        "    for i in range(4):\n",
        "      for j in range(4):\n",
        "        if binx[i][j] == '0':\n",
        "          qc.x(qx[i])\n",
        "        else:\n",
        "          qc.z(qx[i])\n",
        "        if biny[i][j] == '0':\n",
        "          qc.x(qy[i])\n",
        "        else:\n",
        "          qc.z(qy[i])\n",
        "    mul(qc, qx, qy, qa)\n",
        "    qc.measure(qa, c)\n",
        "    backend = Aer.get_backend('qasm_simulator')\n",
        "    counts = execute(qc,backend, shots=1024).result().get_counts(qc)\n",
        "    attackB = int(max(counts, key = counts.get), 2)\n",
        "    return attackB, healB, enhance\n",
        "  \n",
        "  # Add bonus\n",
        "  # No magic points required\n",
        "  # 3 qubit attack (Max bonus attack 2 ** 3 = 8)\n",
        "\n",
        "  elif bonus == \"Add\":\n",
        "\n",
        "    # Random XZ circuit with superposition\n",
        "\n",
        "    bini = [getBinString(3), getBinString(3), getBinString(3)]\n",
        "    bino = [getBinString(3), getBinString(3), getBinString(3)]\n",
        "    qi = QuantumRegister(3)\n",
        "    qo = QuantumRegister(3)\n",
        "    c = ClassicalRegister(3)\n",
        "    qc = QuantumCircuit(qi, qo, c)\n",
        "    qc.h(qi)\n",
        "    for i in range(3):\n",
        "      for j in range(3):\n",
        "        if bini[i][j] == '0':\n",
        "          qc.x(qi[i])\n",
        "        else:\n",
        "          qc.z(qi[i])\n",
        "        if bino[i][j] == '0':\n",
        "          qc.x(qo[i])\n",
        "        else:\n",
        "          qc.z(qo[i])\n",
        "    add(qc, qi, qo)\n",
        "    qc.measure(qo, c)\n",
        "    backend = Aer.get_backend('qasm_simulator')\n",
        "    counts = execute(qc,backend, shots=1024).result().get_counts(qc)\n",
        "    attackB = int(max(counts, key = counts.get), 2)\n",
        "    return attackB, healB, enhance\n",
        "  \n",
        "  # Add bonus\n",
        "  # No magic points required\n",
        "  # 3 qubit fractional enhance\n",
        "  # Max bonus enhance = 0 meaning enemy's attack will deal no damage\n",
        "  # Min bonus enhance = 1 meaning enemy's attack will not be altered\n",
        "\n",
        "  elif bonus == \"Sub\":\n",
        "\n",
        "    # Random XZ circuit with superposition\n",
        "\n",
        "    bini = [getBinString(3), getBinString(3), getBinString(3)]\n",
        "    bino = [getBinString(3), getBinString(3), getBinString(3)]\n",
        "    qi = QuantumRegister(3)\n",
        "    qo = QuantumRegister(3)\n",
        "    c = ClassicalRegister(3)\n",
        "    qc = QuantumCircuit(qi, qo, c)\n",
        "    qc.h(qi)\n",
        "    for i in range(3):\n",
        "      for j in range(3):\n",
        "        if bini[i][j] == '0':\n",
        "          qc.x(qi[i])\n",
        "        else:\n",
        "          qc.z(qi[i])\n",
        "        if bino[i][j] == '0':\n",
        "          qc.x(qo[i])\n",
        "        else:\n",
        "          qc.z(qo[i])\n",
        "    sub(qc, qi, qo)\n",
        "    qc.measure(qo, c)\n",
        "    backend = Aer.get_backend('qasm_simulator')\n",
        "    counts = execute(qc,backend, shots=1024).result().get_counts(qc)\n",
        "    enhance = int(max(counts, key = counts.get), 2)\n",
        "    enhance = enhance / 8\n",
        "    return attackB, healB, enhance"
      ],
      "execution_count": null,
      "outputs": []
    },
    {
      "cell_type": "code",
      "metadata": {
        "id": "8HVLWBlIPBE5"
      },
      "source": [
        "# Random bit string generator\n",
        "\n",
        "def getBinString(n):\n",
        "  q = QuantumRegister(n)\n",
        "  c = ClassicalRegister(n)\n",
        "  qc = QuantumCircuit(q, c)\n",
        "  qc.h(q)\n",
        "  qc.measure(q, c)\n",
        "  backend = Aer.get_backend('qasm_simulator')\n",
        "  counts = execute(qc,backend, shots=1024).result().get_counts(qc)\n",
        "  measure = max(counts, key = counts.get)\n",
        "  return measure"
      ],
      "execution_count": null,
      "outputs": []
    },
    {
      "cell_type": "markdown",
      "metadata": {
        "id": "Bf54UQ7gkCdK"
      },
      "source": [
        "### Implementation"
      ]
    },
    {
      "cell_type": "code",
      "metadata": {
        "id": "Os2cDszCefB1"
      },
      "source": [
        "# Get names\n",
        "\n",
        "name1 = input(\"Player 1 enter your name: \")\n",
        "name2 = input(\"Player 2 enter your name: \")\n",
        "while len(name1) == 0 or len(name2) == 0:\n",
        "  print(\"Please enter valid name\")\n",
        "  name1 = input(\"Player 1 enter your name: \")\n",
        "  name2 = input(\"Player 2 enter your name: \")\n",
        "\n",
        "name = [name1, name2]\n",
        "token1 = Deutsch(name1)\n",
        "token2 = Deutsch(name2)\n",
        "\n",
        "# Deciding team\n",
        "\n",
        "teamE = [\"\\U0001F607\", \"\\U0001F608\"]\n",
        "print()\n",
        "for i in range(16):\n",
        "  print(\"\\U0001F525\", end = \"\")\n",
        "print()\n",
        "print(\"Lord Deutsch will decide your fate!!\")\n",
        "for i in range(16):\n",
        "  print(\"\\U0001F525\", end = \"\")\n",
        "print()\n",
        "print()\n",
        "player1T = 0\n",
        "player2T = 1\n",
        "if token1 ^ token2 == 1:\n",
        "  player1T = 1\n",
        "  player2T = 0\n",
        "\n",
        "# Print the team assignments\n",
        "\n",
        "team = [player1T, player2T] # team index for attacks\n",
        "print(\"Team\", name1, \":\\t\", teamE[player1T])\n",
        "print(\"Team\", name2, \":\\t\", teamE[player2T])"
      ],
      "execution_count": null,
      "outputs": []
    },
    {
      "cell_type": "code",
      "metadata": {
        "id": "VpVryhaUnP_4"
      },
      "source": [
        "# Initialization\n",
        "# Should be run before every game\n",
        "\n",
        "health = [100, 100]\n",
        "magic = [0, 0]\n",
        "defense = [1.0, 1.0]\n",
        "\n",
        "aAttacks = [\"Divine slash (Min attack: 0)\", \"Judgement ray (Min attack: 4)\", \"Grand cross (Min attack: 6)\", \"Holy water (Min heal: 6)\", \"Touch of Jesus (Min attack: 12) (Requires 8 magic points)\"]\n",
        "dAttacks = [\"Black fist (Min attack: 0)\", \"Flame pillar (Min attack: 4)\", \"Broken cross (Min attack: 6)\", \"Lucifier's blood (Min heal: 6)\", \"Scream of Satan (Min attack: 12) (Requires 8 magic points)\"]\n",
        "\n",
        "attacks = [aAttacks, dAttacks]"
      ],
      "execution_count": null,
      "outputs": []
    },
    {
      "cell_type": "code",
      "metadata": {
        "id": "iriDMvCgwdrr"
      },
      "source": [
        "# Game\n",
        "\n",
        "chance = 0\n",
        "\n",
        "print(\"=====Game begins!=====Game begins!=====Game begins!=====Game begins!=====Game begins!=====\")\n",
        "print()\n",
        "\n",
        "# Chances\n",
        "\n",
        "while health[0] > 0 and health[1] > 0:\n",
        "\n",
        "  # Print stats\n",
        "  \n",
        "  print(name[chance] + \"! your turn\")\n",
        "  print()\n",
        "  print(\"Health:\\t\", health[chance])\n",
        "  print(\"Magic:\\t\", magic[chance])\n",
        "  print()\n",
        "  print(\"Enemy's stats\")\n",
        "  print()\n",
        "  print(\"Health:\\t\", health[chance ^ 1])\n",
        "  print(\"Magic:\\t\", magic[chance ^ 1])\n",
        "  print()\n",
        "\n",
        "  # Prompt current player for move\n",
        "\n",
        "  print(\"\\tMoves\")\n",
        "  for i in range(5):\n",
        "    print(\"\\t\", i + 1, \")\", attacks[team[chance]][i])\n",
        "  choice = int(input(\"\\tEnter your choice (1 - 5): \"))\n",
        "  while (choice < 1 or choice > 5) or (choice == 5 and magic[chance] < 8):\n",
        "    if choice == 5 and magic[chance] < 8:\n",
        "      print(\"\\tNot enough magic\")\n",
        "    else:\n",
        "      print(\"\\tEnter a valid choice\")\n",
        "    choice = int(input(\"\\tEnter your choice (1 - 5): \"))\n",
        "  print()\n",
        "  print(\"\\tYour choice: \", attacks[team[chance]][choice - 1])\n",
        "  print()\n",
        "\n",
        "  # Computing attack, heal, and enhance\n",
        "\n",
        "  enhance = 1\n",
        "\n",
        "  attack = heal = 0\n",
        "\n",
        "  gUsed = False\n",
        "\n",
        "  if choice != 5:\n",
        "    attack, heal = move(choice)\n",
        "    attackB = healB = 0\n",
        "    enhance = 1\n",
        "\n",
        "    # Bonus spinner\n",
        "\n",
        "    spin = random.uniform(0, 1)\n",
        "    bonus = \"\"\n",
        "    if 0.7 < spin < 0.8:\n",
        "      bonus = \"Add\"\n",
        "    elif 0.8 < spin < 0.9:\n",
        "      bonus = \"Sub\"\n",
        "    elif 0.9 < spin < 1:\n",
        "      bonus = \"Mul\"\n",
        "    if (bonus == \"Mul\" and magic[chance] >= 4) or (bonus != \"Mul\" and bonus != \"\"):\n",
        "      print(\"\\tYou received a bonus!!\")\n",
        "      if bonus == \"Mul\":\n",
        "        print(\"\\tYour bonus: \", bonus, \"(Requires 4 magic points)\")\n",
        "        use = input(\"\\tWant to use bonus? (Y for yes else no)\")\n",
        "        if use == \"Y\":\n",
        "          attackB, healB, enhance = bonuses(bonus)\n",
        "      else:\n",
        "        print(\"\\tYour bonus: \", bonus)\n",
        "        use = input(\"\\tWant to use bonus? (Y for yes else no) \")\n",
        "        if use == \"Y\":\n",
        "          attackB, healB, enhance = bonuses(bonus)\n",
        "      print()\n",
        "  else:\n",
        "    gUsed = True\n",
        "    magic[chance] -= 8\n",
        "    attack = GroverS(6)\n",
        "    if attack < 12:\n",
        "      attack = attack ^ (2 ** 6 - 1)\n",
        "  \n",
        "  print(\"Attack: \" + str(attack))\n",
        "  print(\"Heal: \" + str(heal))\n",
        "  print()\n",
        "  \n",
        "  # Capping attack, health, and magic\n",
        "\n",
        "  if health[chance ^ 1] - int(defense[chance ^ 1] * attack) < 0:\n",
        "    health[chance ^ 1] = 0\n",
        "  else:\n",
        "    health[chance ^ 1] = health[chance ^ 1] - int(defense[chance ^ 1] * attack)\n",
        "  if health[chance] + heal > 100:\n",
        "    health[chance] = 100\n",
        "  else:\n",
        "    health[chance] = health[chance] + heal\n",
        "  addMagic = 0\n",
        "  if gUsed: # Check if Grover is used or not to add magic accordingly\n",
        "    addMagic = int(attack * 0.2)\n",
        "  else:\n",
        "    addMagic = int(attack * 0.3)\n",
        "  if magic[chance ^ 1] + addMagic >= 10:\n",
        "    magic[chance ^ 1] = 10\n",
        "  else:\n",
        "    magic[chance ^ 1] += addMagic\n",
        "  defense[chance] = enhance\n",
        "\n",
        "  chance = chance ^ 1\n",
        "\n",
        "print(\"=====Game Over!=====Game Over!=====Game Over!=====Game Over!=====Game Over!=====\")"
      ],
      "execution_count": null,
      "outputs": []
    },
    {
      "cell_type": "code",
      "metadata": {
        "id": "1rgXl5kQyDh2"
      },
      "source": [
        "# Print results\n",
        "\n",
        "print(\"Results!\")\n",
        "print()\n",
        "\n",
        "if health[0] <= 0:\n",
        "  print(\"Winner is \" + teamE[team[1]] + \" aka \" + name[1])\n",
        "else:\n",
        "  print(\"Winner is \" + teamE[team[0]] + \" aka \" + name[0])"
      ],
      "execution_count": null,
      "outputs": []
    }
  ]
}